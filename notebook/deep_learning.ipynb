{
 "cells": [
  {
   "cell_type": "code",
   "execution_count": 8,
   "metadata": {},
   "outputs": [],
   "source": [
    "import tensorflow as tf\n",
    "import numpy as np\n",
    "import sys\n",
    "import pandas as pd\n",
    "import datetime\n",
    "\n",
    "sys.path.append(\"../\") # go to parent dir\n",
    "from util.read_data import DataReader\n",
    "from util.evaluator import ModelEvaluator\n",
    "\n",
    "tf.enable_eager_execution()\n"
   ]
  },
  {
   "cell_type": "markdown",
   "metadata": {},
   "source": [
    "1000 iter, 9 features, train >= 1.1.2012\n",
    "\n",
    "lstm 20: MSE = 7.512969e+17, R2 = -0.909, confidence interval 95% = (359,183,212 - 514,268,732)\n",
    "lstm 20: MSE = 1.221964e+17, R2 = 0.737, confidence interval 95% = (-21,071,013 - 17,874,275)\n",
    "\n",
    "1000 iter, 26 features, train >= 1.1.2000\n",
    "lstm 20 on test: MSE = 1.007057e+18, R2 = -1.558, confidence interval 95% = (639,482,637 - 819,035,560)\n",
    "\n",
    "1000 iter, 26 features, train >= 1.1.2012\n",
    "lstm 20 on test: MSE = 1.092978e+18, R2 = -1.777, confidence interval 95% = (555,998,192 - 743,053,957)\n",
    "\n",
    "2000 iter, 26 features, train >= 1.1.2000, deeper LSTM\n",
    "lstm 20 on test: MSE = 8.831816e+17, R2 = -1.244, confidence interval 95% = (526,764,737 - 694,912,253)\n",
    "lstm 20: MSE = 5.446784e+15, R2 = 0.988, confidence interval 95% = (-8,872,915 - -650,567)"
   ]
  },
  {
   "cell_type": "code",
   "execution_count": null,
   "metadata": {},
   "outputs": [],
   "source": []
  },
  {
   "cell_type": "code",
   "execution_count": 19,
   "metadata": {},
   "outputs": [],
   "source": [
    "# read test and train data\n",
    "reader = DataReader()\n",
    "df = reader.read_normalized_data_for_rnn('../data/S&P500.csv')\n",
    "train_features, train_volume = reader.get_train_data(df)\n",
    "test_features, test_volume = reader.get_test_data(df)\n",
    "evaluator = ModelEvaluator(reader.label_scaler)"
   ]
  },
  {
   "cell_type": "code",
   "execution_count": 20,
   "metadata": {},
   "outputs": [],
   "source": [
    "class DataLoader():\n",
    "    def __init__(self, features, volume):\n",
    "        self.features = features\n",
    "        self.volume = volume\n",
    "\n",
    "    def get_batch(self, seq_length, batch_size):\n",
    "        seq = []\n",
    "        next_volume = []\n",
    "        for i in range(batch_size):\n",
    "            index = np.random.randint(0, len(self.volume) - seq_length)\n",
    "            seq.append(self.features[index:index+seq_length].values)\n",
    "            next_volume.append(self.volume[index+seq_length])\n",
    "        return np.array(seq), np.array(next_volume).reshape(-1, 1)\n",
    "\n",
    "\n",
    "def predict_volume(rnn_model, features):\n",
    "    volume_pred = []\n",
    "    for i in range(len(features) - seq_length):\n",
    "        x = features[i:i + seq_length]\n",
    "        x = x.values.reshape(1, seq_length, x.shape[1])\n",
    "        volume_pred.append(rnn_model(x).numpy()[0, 0])\n",
    "    return pd.Series(volume_pred)"
   ]
  },
  {
   "cell_type": "code",
   "execution_count": 21,
   "metadata": {},
   "outputs": [],
   "source": [
    "class RNN(tf.keras.Model):\n",
    "    def __init__(self):\n",
    "        super().__init__()\n",
    "        self.cell1 = tf.nn.rnn_cell.BasicLSTMCell(num_units=512)\n",
    "        self.cell2 = tf.nn.rnn_cell.BasicLSTMCell(num_units=512)\n",
    "        self.dense1 = tf.keras.layers.Dense(units=1024)\n",
    "        self.dense2 = tf.keras.layers.Dense(units=1)\n",
    "\n",
    "    def call(self, inputs):\n",
    "        batch_size, seq_length, _ = tf.shape(inputs)\n",
    "        state1 = self.cell1.zero_state(batch_size=batch_size, dtype=tf.float32)\n",
    "        state2 = self.cell2.zero_state(batch_size=batch_size, dtype=tf.float32)\n",
    "        for t in range(seq_length.numpy()):\n",
    "            output, state1 = self.cell1(inputs[:, t, :], state1)\n",
    "            output, state2 = self.cell2(output, state2)\n",
    "            output = self.dense1(output)\n",
    "            output = self.dense2(output)\n",
    "        return output\n",
    "\n",
    "    def predict(self, inputs, temperature=1.):\n",
    "        batch_size, _ = tf.shape(inputs)\n",
    "        output = self(inputs)\n",
    "        return output.numpy()\n"
   ]
  },
  {
   "cell_type": "code",
   "execution_count": 22,
   "metadata": {},
   "outputs": [],
   "source": [
    "learning_rate = 1e-3\n",
    "batch_size = 64\n",
    "seq_length = 20\n",
    "num_batches = 500"
   ]
  },
  {
   "cell_type": "code",
   "execution_count": 24,
   "metadata": {},
   "outputs": [
    {
     "name": "stdout",
     "output_type": "stream",
     "text": [
      "batch 0: loss 0.898700\n",
      "batch 100: loss 0.957565\n",
      "batch 200: loss 0.609967\n",
      "batch 300: loss 0.427986\n",
      "batch 400: loss 0.406696\n"
     ]
    }
   ],
   "source": [
    "data_loader = DataLoader(train_features,train_volume)\n",
    "model = RNN()\n",
    "optimizer = tf.train.AdamOptimizer(learning_rate=learning_rate)\n",
    "for batch_index in range(num_batches):\n",
    "    X, y = data_loader.get_batch(seq_length, batch_size)\n",
    "    with tf.GradientTape() as tape:\n",
    "        y_pred = model(X)\n",
    "        loss = tf.losses.mean_squared_error(labels=y, predictions=y_pred)\n",
    "        if (batch_index % 100 == 0):\n",
    "            print(\"batch %d: loss %f\" % (batch_index, loss.numpy()))\n",
    "    grads = tape.gradient(loss, model.variables)\n",
    "    optimizer.apply_gradients(grads_and_vars=zip(grads, model.variables))"
   ]
  },
  {
   "cell_type": "code",
   "execution_count": 25,
   "metadata": {},
   "outputs": [
    {
     "name": "stdout",
     "output_type": "stream",
     "text": [
      "lstm 20 on train: MSE = 6.466866e+17, R2 = 0.736, confidence interval 95% = (-86,446,110 - -38,131,200)\n",
      "lstm 20 on test: MSE = 3.216345e+17, R2 = 0.183, confidence interval 95% = (115,760,305 - 217,232,428)\n"
     ]
    }
   ],
   "source": [
    "print(evaluator.evaluate(\"lstm {} on train\".format(seq_length), train_volume[seq_length:], \n",
    "                         predict_volume(model, train_features)))\n",
    "\n",
    "print(evaluator.evaluate(\"lstm {} on test\".format(seq_length), test_volume[seq_length:], \n",
    "                         predict_volume(model, test_features)))"
   ]
  }
 ],
 "metadata": {
  "kernelspec": {
   "display_name": "Python 3",
   "language": "python",
   "name": "python3"
  },
  "language_info": {
   "codemirror_mode": {
    "name": "ipython",
    "version": 3
   },
   "file_extension": ".py",
   "mimetype": "text/x-python",
   "name": "python",
   "nbconvert_exporter": "python",
   "pygments_lexer": "ipython3",
   "version": "3.6.7"
  }
 },
 "nbformat": 4,
 "nbformat_minor": 2
}
