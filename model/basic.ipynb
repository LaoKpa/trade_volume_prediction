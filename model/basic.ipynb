{
 "cells": [
  {
   "cell_type": "code",
   "execution_count": 1,
   "metadata": {},
   "outputs": [],
   "source": [
    "import sys\n",
    "sys.path.append(\"../\") # go to parent dir\n",
    "from util.read_data import DataReader\n",
    "from util.evaluator import ModelEvaluator\n"
   ]
  },
  {
   "cell_type": "code",
   "execution_count": 2,
   "metadata": {},
   "outputs": [
    {
     "data": {
      "text/plain": [
       "Index(['Open', 'High', 'Low', 'Close', 'Volume', 'DayOfWeek', 'Month',\n",
       "       'AdjClose', 'OpenDiff', 'CloseDiff', 'AdjCloseDiff', 'HighLowDiff'],\n",
       "      dtype='object')"
      ]
     },
     "execution_count": 2,
     "metadata": {},
     "output_type": "execute_result"
    }
   ],
   "source": [
    "reader = DataReader()\n",
    "df = reader.read_all_data_normalized()\n",
    "evaluator = ModelEvaluator(reader.label_scaler)\n",
    "df.columns"
   ]
  },
  {
   "cell_type": "code",
   "execution_count": 3,
   "metadata": {},
   "outputs": [],
   "source": [
    "df_test_features, series_test_volume = reader.get_test_data(df)\n"
   ]
  },
  {
   "cell_type": "markdown",
   "metadata": {},
   "source": [
    "Baseline model: $\\hat{E}[v_{d+1}]=v_d$"
   ]
  },
  {
   "cell_type": "code",
   "execution_count": 4,
   "metadata": {},
   "outputs": [],
   "source": [
    "\n",
    "def baseline_model(volume):\n",
    "    pred_volume = volume.shift(1)\n",
    "    return pred_volume\n"
   ]
  },
  {
   "cell_type": "code",
   "execution_count": 5,
   "metadata": {},
   "outputs": [
    {
     "name": "stdout",
     "output_type": "stream",
     "text": [
      "baseline: MSE = 3.684400e+17, R2 = 0.033, confidence interval 95% = (-53,069,427 - 53,341,067)\n"
     ]
    }
   ],
   "source": [
    "baseline_pred_volume = baseline_model(series_test_volume)\n",
    "baseline_model_results = evaluator.evaluate(\"baseline\", series_test_volume[1:], baseline_pred_volume[1:])\n",
    "print(baseline_model_results)"
   ]
  },
  {
   "cell_type": "markdown",
   "metadata": {},
   "source": [
    "The baseline r2 score is **0.033**"
   ]
  },
  {
   "cell_type": "markdown",
   "metadata": {},
   "source": [
    "Another simple model would use moving average over some time window.\n",
    "The model is following: $V_{d+1}=\\frac 1n \\sum_{i=0}^{n-1} V_{d-i}$.\n",
    "We can try multiple n values, le'ts try following values: {1, 3, 5, 10, 50, 100}\n",
    "\n"
   ]
  },
  {
   "cell_type": "code",
   "execution_count": 6,
   "metadata": {},
   "outputs": [],
   "source": [
    "def moving_average_model(volume, n):\n",
    "    pred_volume = volume.rolling(n).mean().shift(1)\n",
    "    return pred_volume"
   ]
  },
  {
   "cell_type": "code",
   "execution_count": 7,
   "metadata": {
    "scrolled": true
   },
   "outputs": [
    {
     "name": "stdout",
     "output_type": "stream",
     "text": [
      "moving_average 1: MSE = 3.684400e+17, R2 = 0.033, confidence interval 95% = (-53,341,067 - 53,069,427)\n",
      "moving_average 3: MSE = 3.099159e+17, R2 = -0.239, confidence interval 95% = (-48,259,465 - 49,530,282)\n",
      "moving_average 5: MSE = 3.128615e+17, R2 = -0.523, confidence interval 95% = (-45,836,522 - 52,614,748)\n",
      "moving_average 10: MSE = 3.298599e+17, R2 = -1.303, confidence interval 95% = (-39,324,762 - 62,279,075)\n",
      "moving_average 50: MSE = 3.892483e+17, R2 = -6.839, confidence interval 95% = (-23,387,014 - 91,775,513)\n",
      "moving_average 100: MSE = 4.390438e+17, R2 = -23.992, confidence interval 95% = (-11,765,661 - 117,942,651)\n"
     ]
    }
   ],
   "source": [
    "window_size = [1,3,5,10,50,100]\n",
    "moving_average_result_list = [evaluator.evaluate(\"moving_average {}\".format(n), \n",
    "                                                 moving_average_model(series_test_volume, n)[n:], series_test_volume[n:]) \n",
    "                                                 for n in window_size]\n",
    "\n",
    "for result in moving_average_result_list:\n",
    "    print(result)\n"
   ]
  },
  {
   "cell_type": "markdown",
   "metadata": {},
   "source": [
    "The moving average models for window size <3, 50> does not help much. The window size 1 at least confirms that te algorithm has correct implementation."
   ]
  },
  {
   "cell_type": "markdown",
   "metadata": {},
   "source": [
    "Le'ts try to use exponential moving average, "
   ]
  },
  {
   "cell_type": "code",
   "execution_count": 8,
   "metadata": {},
   "outputs": [],
   "source": [
    "def exp_moving_average_model(volume, n):\n",
    "    pred_volume = volume.ewm(span=n).mean().shift(1)\n",
    "    return pred_volume\n",
    "\n"
   ]
  },
  {
   "cell_type": "code",
   "execution_count": 9,
   "metadata": {},
   "outputs": [
    {
     "name": "stdout",
     "output_type": "stream",
     "text": [
      "moving_average 1: MSE = 3.684400e+17, R2 = 0.033, confidence interval 95% = (-53,341,067 - 53,069,427)\n",
      "moving_average 3: MSE = 2.880625e+17, R2 = -0.213, confidence interval 95% = (-46,252,592 - 48,026,359)\n",
      "moving_average 5: MSE = 2.845396e+17, R2 = -0.489, confidence interval 95% = (-42,536,855 - 51,352,553)\n",
      "moving_average 10: MSE = 2.953661e+17, R2 = -1.156, confidence interval 95% = (-38,026,698 - 58,118,071)\n",
      "moving_average 50: MSE = 3.594106e+17, R2 = -6.870, confidence interval 95% = (-25,767,251 - 84,893,406)\n",
      "moving_average 100: MSE = 4.073537e+17, R2 = -18.608, confidence interval 95% = (-20,472,852 - 104,466,639)\n"
     ]
    }
   ],
   "source": [
    "window_size = [1,3,5,10,50,100]\n",
    "exp_moving_average_result_list = [evaluator.evaluate(\"moving_average {}\".format(n),\n",
    "                                                 exp_moving_average_model(series_test_volume, n)[n:], series_test_volume[n:])\n",
    "                                                 for n in window_size]\n",
    "\n",
    "for result in exp_moving_average_result_list:\n",
    "    print(result)\n"
   ]
  },
  {
   "cell_type": "markdown",
   "metadata": {},
   "source": [
    "Exponential moving average on the Volume does not help much either."
   ]
  },
  {
   "cell_type": "markdown",
   "metadata": {},
   "source": [
    "Let's not try to use first real machine-learning model, random forest classifier. The features will be month of year, day of week, difference between low and high price of previous day and historical parametrized window of following market data: volume data, and changes in the adjusted closing price. Size of the window will be: {3, 5, 10, 50, 100}. The expected result is that the accuracy will be better with longer time window, but with deminishing returns."
   ]
  },
  {
   "cell_type": "code",
   "execution_count": 10,
   "metadata": {},
   "outputs": [],
   "source": [
    "from sklearn.linear_model import LinearRegression\n",
    "\n",
    "def linear_regression_model(features, volume):\n",
    "    regressor = LinearRegression()\n",
    "    \n",
    "    regressor.fit(features, volume)\n",
    "    return regressor\n",
    "\n",
    "def eval_model(name, model_function, n, custom_callback=None):\n",
    "    # prepare the features\n",
    "    df_enriched = reader.prepare_window_features_for_training(df, n)[n:]\n",
    "\n",
    "    train_features, train_volume = reader.get_train_data(df_enriched)\n",
    "    test_features, test_volume = reader.get_test_data(df_enriched)\n",
    "\n",
    "    regressor = model_function(train_features, train_volume)\n",
    "    \n",
    "    if (custom_callback):\n",
    "        random_forest_callback(train_features, regressor)\n",
    "   \n",
    "    print(evaluator.evaluate(\"{} {} on train: \".format(name, n), regressor.predict(train_features), train_volume))\n",
    "    result = evaluator.evaluate(\"{} {} on test:\".format(name, n), regressor.predict(test_features), test_volume)\n",
    "    print(result)\n",
    "    print()\n",
    "    return result\n"
   ]
  },
  {
   "cell_type": "code",
   "execution_count": 11,
   "metadata": {},
   "outputs": [
    {
     "name": "stdout",
     "output_type": "stream",
     "text": [
      "linear_regression 1 on train: : MSE = 3.366615e+17, R2 = 0.841, confidence interval 95% = (-17,391,377 - 17,391,377)\n",
      "linear_regression 1 on test:: MSE = 3.159721e+17, R2 = 0.037, confidence interval 95% = (-11,065,462 - 87,379,065)\n",
      "\n",
      "linear_regression 3 on train: : MSE = 2.925643e+17, R2 = 0.865, confidence interval 95% = (-16,216,214 - 16,216,214)\n",
      "linear_regression 3 on test:: MSE = 2.649089e+17, R2 = 0.008, confidence interval 95% = (-20,038,420 - 70,101,150)\n",
      "\n",
      "linear_regression 5 on train: : MSE = 2.829278e+17, R2 = 0.870, confidence interval 95% = (-15,944,029 - 15,957,264)\n",
      "linear_regression 5 on test:: MSE = 2.594226e+17, R2 = -0.037, confidence interval 95% = (-22,011,386 - 67,189,891)\n",
      "\n",
      "linear_regression 10 on train: : MSE = 2.737411e+17, R2 = 0.874, confidence interval 95% = (-15,713,567 - 15,683,907)\n",
      "linear_regression 10 on test:: MSE = 2.498021e+17, R2 = -0.119, confidence interval 95% = (-23,543,374 - 63,988,302)\n",
      "\n",
      "linear_regression 50 on train: : MSE = 2.587606e+17, R2 = 0.881, confidence interval 95% = (-15,341,075 - 15,329,296)\n",
      "linear_regression 50 on test:: MSE = 2.564959e+17, R2 = -0.202, confidence interval 95% = (-33,178,479 - 55,518,211)\n",
      "\n",
      "linear_regression 100 on train: : MSE = 2.474602e+17, R2 = 0.886, confidence interval 95% = (-15,086,085 - 15,086,085)\n",
      "linear_regression 100 on test:: MSE = 2.689065e+17, R2 = -0.153, confidence interval 95% = (-32,872,463 - 57,944,680)\n",
      "\n"
     ]
    }
   ],
   "source": [
    "for n in (1,3,5,10,50,100):\n",
    "    eval_model(\"linear_regression\", linear_regression_model, n)"
   ]
  },
  {
   "cell_type": "markdown",
   "metadata": {},
   "source": [
    "Linera regression does not seem very good results, with "
   ]
  },
  {
   "cell_type": "code",
   "execution_count": 12,
   "metadata": {},
   "outputs": [],
   "source": [
    "from sklearn.ensemble import RandomForestRegressor\n",
    "\n",
    "def random_forest_model(features, volume):\n",
    "    regressor = RandomForestRegressor(n_estimators=100)\n",
    "    \n",
    "    regressor.fit(features, volume)\n",
    "    return regressor\n",
    "\n",
    "def random_forest_callback(train_features, regressor):\n",
    "    importances = list(zip(train_features.columns, regressor.feature_importances_))\n",
    "    importances.sort(key=lambda x: x[1], reverse = True)\n",
    "    print(\"First 5 Feature importances {}:\".format(n))\n",
    "    for importance in importances[:5]:\n",
    "        print('Feature: {:30} \\t Importance: {}'.format(importance[0], importance[1]))\n"
   ]
  },
  {
   "cell_type": "code",
   "execution_count": 13,
   "metadata": {},
   "outputs": [
    {
     "name": "stdout",
     "output_type": "stream",
     "text": [
      "First 5 Feature importances 1:\n",
      "Feature: Volume1                        \t Importance: 0.9048789127636978\n",
      "Feature: AdjCloseDiff1                  \t Importance: 0.04084382139957442\n",
      "Feature: DayOfWeek_Monday               \t Importance: 0.009608795418870848\n",
      "Feature: Month_12                       \t Importance: 0.005036360290943819\n",
      "Feature: DayOfWeek_Tuesday              \t Importance: 0.004456825398871814\n",
      "random_forest 1 on train: : MSE = 4.929654e+16, R2 = 0.978, confidence interval 95% = (-9,753,549 - 3,556,371)\n",
      "random_forest 1 on test:: MSE = 2.841516e+17, R2 = 0.065, confidence interval 95% = (-112,584,593 - -19,228,597)\n",
      "\n",
      "First 5 Feature importances 3:\n",
      "Feature: Volume1                        \t Importance: 0.8314604159589224\n",
      "Feature: Volume2                        \t Importance: 0.0662501170767072\n",
      "Feature: Volume3                        \t Importance: 0.030515485600666706\n",
      "Feature: AdjCloseDiff1                  \t Importance: 0.016658033099810426\n",
      "Feature: AdjCloseDiff3                  \t Importance: 0.01315268396950824\n",
      "random_forest 3 on train: : MSE = 4.197615e+16, R2 = 0.982, confidence interval 95% = (-8,323,263 - 3,961,594)\n",
      "random_forest 3 on test:: MSE = 2.394484e+17, R2 = 0.052, confidence interval 95% = (-98,472,734 - -12,774,240)\n",
      "\n",
      "First 5 Feature importances 5:\n",
      "Feature: Volume1                        \t Importance: 0.823370088263507\n",
      "Feature: Volume2                        \t Importance: 0.05529715294294643\n",
      "Feature: Volume5                        \t Importance: 0.020907313912712125\n",
      "Feature: Volume4                        \t Importance: 0.020360109738122\n",
      "Feature: Volume3                        \t Importance: 0.017572350076436927\n",
      "random_forest 5 on train: : MSE = 3.903701e+16, R2 = 0.983, confidence interval 95% = (-9,920,921 - 1,928,816)\n",
      "random_forest 5 on test:: MSE = 2.525075e+17, R2 = -0.065, confidence interval 95% = (-95,946,439 - -7,942,053)\n",
      "\n",
      "First 5 Feature importances 10:\n",
      "Feature: Volume1                        \t Importance: 0.8178313444457628\n",
      "Feature: Volume2                        \t Importance: 0.03498114008219248\n",
      "Feature: Volume10                       \t Importance: 0.017666177049098487\n",
      "Feature: Volume9                        \t Importance: 0.016100447879414115\n",
      "Feature: Volume4                        \t Importance: 0.012853945938754045\n",
      "random_forest 10 on train: : MSE = 4.019149e+16, R2 = 0.982, confidence interval 95% = (-7,668,003 - 4,362,722)\n",
      "random_forest 10 on test:: MSE = 2.608696e+17, R2 = -0.289, confidence interval 95% = (-96,034,973 - -6,585,270)\n",
      "\n",
      "First 5 Feature importances 20:\n",
      "Feature: Volume1                        \t Importance: 0.8192714876394801\n",
      "Feature: Volume2                        \t Importance: 0.03064936543339281\n",
      "Feature: Volume10                       \t Importance: 0.011415845498055056\n",
      "Feature: Volume9                        \t Importance: 0.0113531218963643\n",
      "Feature: Volume5                        \t Importance: 0.01046327057505901\n",
      "random_forest 20 on train: : MSE = 4.063645e+16, R2 = 0.982, confidence interval 95% = (-8,757,493 - 3,353,845)\n",
      "random_forest 20 on test:: MSE = 2.590065e+17, R2 = -0.306, confidence interval 95% = (-89,031,168 - 98,550)\n",
      "\n"
     ]
    }
   ],
   "source": [
    "for n in (1,3,5,10,20):\n",
    "    eval_model(\"random_forest\", random_forest_model, n, random_forest_callback)"
   ]
  },
  {
   "cell_type": "markdown",
   "metadata": {},
   "source": [
    "It is obvious from the comparison between train and test results that the model has high variance, it overfits to the train set. The decision tree regression model is not suitable for the task.  is Le't see SVM model, for comparison."
   ]
  },
  {
   "cell_type": "code",
   "execution_count": 14,
   "metadata": {},
   "outputs": [],
   "source": [
    "from sklearn.svm import SVR"
   ]
  },
  {
   "cell_type": "code",
   "execution_count": 15,
   "metadata": {},
   "outputs": [],
   "source": [
    "def svm_model(features, volume):\n",
    "    regressor = SVR()\n",
    "    \n",
    "    regressor.fit(features, volume)\n",
    "    return regressor\n"
   ]
  },
  {
   "cell_type": "code",
   "execution_count": 16,
   "metadata": {},
   "outputs": [
    {
     "name": "stderr",
     "output_type": "stream",
     "text": [
      "/home/martin/work/github/trade_volume_prediction/venv/lib/python3.6/site-packages/sklearn/svm/base.py:196: FutureWarning: The default value of gamma will change from 'auto' to 'scale' in version 0.22 to account better for unscaled features. Set gamma explicitly to 'auto' or 'scale' to avoid this warning.\n",
      "  \"avoid this warning.\", FutureWarning)\n"
     ]
    },
    {
     "name": "stdout",
     "output_type": "stream",
     "text": [
      "svm_model 1 on train: : MSE = 2.987715e+17, R2 = 0.857, confidence interval 95% = (22,203,979 - 54,970,986)\n",
      "svm_model 1 on test:: MSE = 2.841244e+17, R2 = 0.135, confidence interval 95% = (-27,130,374 - 66,221,161)\n",
      "\n"
     ]
    },
    {
     "name": "stderr",
     "output_type": "stream",
     "text": [
      "/home/martin/work/github/trade_volume_prediction/venv/lib/python3.6/site-packages/sklearn/svm/base.py:196: FutureWarning: The default value of gamma will change from 'auto' to 'scale' in version 0.22 to account better for unscaled features. Set gamma explicitly to 'auto' or 'scale' to avoid this warning.\n",
      "  \"avoid this warning.\", FutureWarning)\n"
     ]
    },
    {
     "name": "stdout",
     "output_type": "stream",
     "text": [
      "svm_model 2 on train: : MSE = 2.579920e+17, R2 = 0.877, confidence interval 95% = (18,432,532 - 48,884,906)\n",
      "svm_model 2 on test:: MSE = 2.460071e+17, R2 = 0.107, confidence interval 95% = (-15,977,399 - 70,886,847)\n",
      "\n"
     ]
    },
    {
     "name": "stderr",
     "output_type": "stream",
     "text": [
      "/home/martin/work/github/trade_volume_prediction/venv/lib/python3.6/site-packages/sklearn/svm/base.py:196: FutureWarning: The default value of gamma will change from 'auto' to 'scale' in version 0.22 to account better for unscaled features. Set gamma explicitly to 'auto' or 'scale' to avoid this warning.\n",
      "  \"avoid this warning.\", FutureWarning)\n"
     ]
    },
    {
     "name": "stdout",
     "output_type": "stream",
     "text": [
      "svm_model 3 on train: : MSE = 2.479718e+17, R2 = 0.882, confidence interval 95% = (14,772,783 - 44,631,416)\n",
      "svm_model 3 on test:: MSE = 2.466826e+17, R2 = 0.048, confidence interval 95% = (-14,763,232 - 72,220,184)\n",
      "\n"
     ]
    },
    {
     "name": "stderr",
     "output_type": "stream",
     "text": [
      "/home/martin/work/github/trade_volume_prediction/venv/lib/python3.6/site-packages/sklearn/svm/base.py:196: FutureWarning: The default value of gamma will change from 'auto' to 'scale' in version 0.22 to account better for unscaled features. Set gamma explicitly to 'auto' or 'scale' to avoid this warning.\n",
      "  \"avoid this warning.\", FutureWarning)\n"
     ]
    },
    {
     "name": "stdout",
     "output_type": "stream",
     "text": [
      "svm_model 5 on train: : MSE = 2.272681e+17, R2 = 0.892, confidence interval 95% = (15,414,757 - 44,006,437)\n",
      "svm_model 5 on test:: MSE = 2.611143e+17, R2 = 0.006, confidence interval 95% = (-32,201,483 - 57,290,172)\n",
      "\n"
     ]
    },
    {
     "name": "stderr",
     "output_type": "stream",
     "text": [
      "/home/martin/work/github/trade_volume_prediction/venv/lib/python3.6/site-packages/sklearn/svm/base.py:196: FutureWarning: The default value of gamma will change from 'auto' to 'scale' in version 0.22 to account better for unscaled features. Set gamma explicitly to 'auto' or 'scale' to avoid this warning.\n",
      "  \"avoid this warning.\", FutureWarning)\n"
     ]
    },
    {
     "name": "stdout",
     "output_type": "stream",
     "text": [
      "svm_model 10 on train: : MSE = 2.040400e+17, R2 = 0.903, confidence interval 95% = (12,209,797 - 39,316,855)\n",
      "svm_model 10 on test:: MSE = 2.597789e+17, R2 = -0.081, confidence interval 95% = (-47,058,810 - 42,203,708)\n",
      "\n"
     ]
    },
    {
     "name": "stderr",
     "output_type": "stream",
     "text": [
      "/home/martin/work/github/trade_volume_prediction/venv/lib/python3.6/site-packages/sklearn/svm/base.py:196: FutureWarning: The default value of gamma will change from 'auto' to 'scale' in version 0.22 to account better for unscaled features. Set gamma explicitly to 'auto' or 'scale' to avoid this warning.\n",
      "  \"avoid this warning.\", FutureWarning)\n"
     ]
    },
    {
     "name": "stdout",
     "output_type": "stream",
     "text": [
      "svm_model 20 on train: : MSE = 1.803236e+17, R2 = 0.913, confidence interval 95% = (12,556,266 - 38,069,206)\n",
      "svm_model 20 on test:: MSE = 2.738548e+17, R2 = -0.495, confidence interval 95% = (-42,276,160 - 49,372,772)\n",
      "\n"
     ]
    }
   ],
   "source": [
    "for n in (1, 2, 3,5,10,20):\n",
    "    eval_model(\"svm_model\", svm_model, n)"
   ]
  },
  {
   "cell_type": "markdown",
   "metadata": {},
   "source": [
    "The best SVM model is again the least overfitted, with only latest value of Volume and AdjCloseDiff1, and seasonality features (DayOfWeek, Month). The R2 = 0.135, with confidence interval 95% of average error = (-27,130,374 - 66,221,161)"
   ]
  },
  {
   "cell_type": "markdown",
   "metadata": {},
   "source": [
    "It seem that we are not moving forward a lot with traditional ML models.\n",
    "Let's try one more model, improved ridge regression with cross validation."
   ]
  },
  {
   "cell_type": "code",
   "execution_count": 17,
   "metadata": {},
   "outputs": [],
   "source": [
    "from sklearn import linear_model\n",
    "\n",
    "def linear_ridge_model(features, volume):\n",
    "    regressor = linear_model.RidgeCV(alphas=[0.1, 1.0, 10.0], cv=10)\n",
    "    \n",
    "    regressor.fit(features, volume)\n",
    "    return regressor"
   ]
  },
  {
   "cell_type": "code",
   "execution_count": 18,
   "metadata": {},
   "outputs": [
    {
     "name": "stdout",
     "output_type": "stream",
     "text": [
      "linear_ridge_model 1 on train: : MSE = 3.366615e+17, R2 = 0.841, confidence interval 95% = (-17,391,377 - 17,391,377)\n",
      "linear_ridge_model 1 on test:: MSE = 3.159678e+17, R2 = 0.037, confidence interval 95% = (-11,055,002 - 87,388,853)\n",
      "\n",
      "linear_ridge_model 2 on train: : MSE = 2.989060e+17, R2 = 0.861, confidence interval 95% = (-16,389,109 - 16,389,109)\n",
      "linear_ridge_model 2 on test:: MSE = 2.725049e+17, R2 = 0.034, confidence interval 95% = (-17,928,323 - 73,494,442)\n",
      "\n",
      "linear_ridge_model 3 on train: : MSE = 2.925806e+17, R2 = 0.864, confidence interval 95% = (-16,216,666 - 16,216,666)\n",
      "linear_ridge_model 3 on test:: MSE = 2.647186e+17, R2 = 0.004, confidence interval 95% = (-19,594,697 - 70,512,494)\n",
      "\n",
      "linear_ridge_model 5 on train: : MSE = 2.829484e+17, R2 = 0.869, confidence interval 95% = (-15,951,225 - 15,951,225)\n",
      "linear_ridge_model 5 on test:: MSE = 2.592607e+17, R2 = -0.041, confidence interval 95% = (-21,673,298 - 67,500,148)\n",
      "\n",
      "linear_ridge_model 10 on train: : MSE = 2.737625e+17, R2 = 0.874, confidence interval 95% = (-15,699,352 - 15,699,352)\n",
      "linear_ridge_model 10 on test:: MSE = 2.495620e+17, R2 = -0.124, confidence interval 95% = (-23,224,878 - 64,264,728)\n",
      "\n",
      "linear_ridge_model 20 on train: : MSE = 2.660498e+17, R2 = 0.878, confidence interval 95% = (-15,494,791 - 15,494,791)\n",
      "linear_ridge_model 20 on test:: MSE = 2.560531e+17, R2 = -0.209, confidence interval 95% = (-26,832,413 - 61,787,683)\n",
      "\n"
     ]
    }
   ],
   "source": [
    "for n in (1, 2, 3,5,10,20):\n",
    "    eval_model(\"linear_ridge_model\", linear_ridge_model, n)"
   ]
  },
  {
   "cell_type": "code",
   "execution_count": null,
   "metadata": {},
   "outputs": [],
   "source": []
  },
  {
   "cell_type": "code",
   "execution_count": null,
   "metadata": {},
   "outputs": [],
   "source": []
  },
  {
   "cell_type": "code",
   "execution_count": null,
   "metadata": {},
   "outputs": [],
   "source": []
  },
  {
   "cell_type": "code",
   "execution_count": null,
   "metadata": {},
   "outputs": [],
   "source": []
  }
 ],
 "metadata": {
  "kernelspec": {
   "display_name": "Python 3",
   "language": "python",
   "name": "python3"
  },
  "language_info": {
   "codemirror_mode": {
    "name": "ipython",
    "version": 3
   },
   "file_extension": ".py",
   "mimetype": "text/x-python",
   "name": "python",
   "nbconvert_exporter": "python",
   "pygments_lexer": "ipython3",
   "version": "3.6.7"
  }
 },
 "nbformat": 4,
 "nbformat_minor": 2
}
