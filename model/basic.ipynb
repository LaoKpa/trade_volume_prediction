{
 "cells": [
  {
   "cell_type": "code",
   "execution_count": 1,
   "metadata": {},
   "outputs": [],
   "source": [
    "import sys\n",
    "sys.path.append(\"../\") # go to parent dir\n",
    "from util.read_data import DataReader"
   ]
  },
  {
   "cell_type": "code",
   "execution_count": 2,
   "metadata": {},
   "outputs": [],
   "source": [
    "reader = DataReader()\n",
    "df = reader.read_all_data()"
   ]
  },
  {
   "cell_type": "code",
   "execution_count": 3,
   "metadata": {},
   "outputs": [],
   "source": [
    "from sklearn.utils import shuffle\n",
    "from sklearn.model_selection import train_test_split\n",
    "from sklearn.metrics import r2_score\n",
    "from sklearn.metrics import mean_squared_error\n",
    "import datetime"
   ]
  },
  {
   "cell_type": "code",
   "execution_count": 25,
   "metadata": {},
   "outputs": [],
   "source": [
    "train, test = df[df.Date < datetime.datetime(2017, 1, 1)], df[df.Date >= datetime.datetime(2017, 1, 1)]\n",
    "\n",
    "test_start_date = datetime.datetime(2017, 1, 1)\n",
    "y_true_test = y_true[y_true.index >= test_start_date]\n"
   ]
  },
  {
   "cell_type": "markdown",
   "metadata": {},
   "source": [
    "Baseline model: $\\hat{E}[v_{d+1}]=v_d$"
   ]
  },
  {
   "cell_type": "code",
   "execution_count": 33,
   "metadata": {},
   "outputs": [],
   "source": [
    "\n",
    "def baseline_model(df):\n",
    "    y_true = df.Volume\n",
    "    y_pred = df.Volume.shift(1)\n",
    "    y_pred_test = y_pred[y_pred.index >= test_start_date]\n",
    "    mse = mean_squared_error(y_true_test, y_pred_test)\n",
    "    r2 = r2_score(y_true_test, y_pred_test)\n",
    "    return (mse, r2)"
   ]
  },
  {
   "cell_type": "code",
   "execution_count": 42,
   "metadata": {},
   "outputs": [
    {
     "name": "stdout",
     "output_type": "stream",
     "text": [
      "Baseline model metrics: mse=3.701181e+17, r2=0.027\n"
     ]
    }
   ],
   "source": [
    "baseline_model_metrics = baseline_model(df)\n",
    "print(\"Baseline model metrics: mse={:e}, r2={:.3f}\".format(baseline_model_metrics[0], baseline_model_metrics[1]))"
   ]
  },
  {
   "cell_type": "markdown",
   "metadata": {},
   "source": [
    "The baseline r2 score is **0.027**"
   ]
  },
  {
   "cell_type": "markdown",
   "metadata": {},
   "source": [
    "Another simple model would use moving average over some time window.\n",
    "The model is following: $V_{d+1}=\\frac 1n \\sum_{i=0}^{n-1} V_{d-i}$.\n",
    "We can try multiple n values, le'ts try following values: {5, 10, 50, 100}\n",
    "\n"
   ]
  },
  {
   "cell_type": "code",
   "execution_count": 56,
   "metadata": {},
   "outputs": [],
   "source": [
    "def moving_average_model(df, n):\n",
    "    y_pred = df.Volume.rolling(n).mean().shift(1)\n",
    "    y_pred_test = y_pred[y_pred.index >= datetime.datetime(2017, 1, 1)]\n",
    "    mse = mean_squared_error(y_true_test, y_pred_test)\n",
    "    r2 = r2_score(y_true_test, y_pred_test)\n",
    "    return (mse, r2)"
   ]
  },
  {
   "cell_type": "code",
   "execution_count": 68,
   "metadata": {},
   "outputs": [
    {
     "name": "stdout",
     "output_type": "stream",
     "text": [
      "Moving average model metrics with for windows size 1: mse=3.701181e+17, r2=0.027\n",
      "Moving average model metrics with for windows size 3: mse=3.131172e+17, r2=0.176\n",
      "Moving average model metrics with for windows size 5: mse=3.180588e+17, r2=0.163\n",
      "Moving average model metrics with for windows size 10: mse=3.310901e+17, r2=0.129\n",
      "Moving average model metrics with for windows size 50: mse=3.631842e+17, r2=0.045\n",
      "Moving average model metrics with for windows size 100: mse=3.828377e+17, r2=-0.007\n"
     ]
    }
   ],
   "source": [
    "window_size = [1,3,5,10,50,100]\n",
    "moving_average_models = [moving_average_model(df, n) for n in window_size]\n",
    "for n, model in zip(window_size, moving_average_models):\n",
    "    print(\"Moving average model metrics with for windows size {}: mse={:e}, r2={:.3f}\".format(n, model[0], model[1]))\n"
   ]
  },
  {
   "cell_type": "markdown",
   "metadata": {},
   "source": [
    "The moving average models for window size <3, 50> already exceed baseline model. The window size 1 confirms that te algorithm has correct implementation."
   ]
  },
  {
   "cell_type": "raw",
   "metadata": {},
   "source": [
    "Let's not try to use first real machine-learning model, "
   ]
  },
  {
   "cell_type": "code",
   "execution_count": null,
   "metadata": {},
   "outputs": [],
   "source": []
  }
 ],
 "metadata": {
  "kernelspec": {
   "display_name": "Python 3",
   "language": "python",
   "name": "python3"
  },
  "language_info": {
   "codemirror_mode": {
    "name": "ipython",
    "version": 3
   },
   "file_extension": ".py",
   "mimetype": "text/x-python",
   "name": "python",
   "nbconvert_exporter": "python",
   "pygments_lexer": "ipython3",
   "version": "3.6.7"
  }
 },
 "nbformat": 4,
 "nbformat_minor": 2
}
